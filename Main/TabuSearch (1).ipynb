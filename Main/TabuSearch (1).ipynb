{
  "nbformat": 4,
  "nbformat_minor": 0,
  "metadata": {
    "colab": {
      "name": "TabuSearch.ipynb",
      "provenance": [],
      "collapsed_sections": [
        "Q7PHwbJW9IxY",
        "MMyv8qB9-HPI",
        "DvzanJa--oka"
      ]
    },
    "kernelspec": {
      "name": "python3",
      "display_name": "Python 3"
    },
    "language_info": {
      "name": "python"
    }
  },
  "cells": [
    {
      "cell_type": "markdown",
      "metadata": {
        "id": "SsQVhOSvzgCu"
      },
      "source": [
        "#  1. Tabu Search"
      ]
    },
    {
      "cell_type": "markdown",
      "metadata": {
        "id": "_dGd2MG6rqWu"
      },
      "source": [
        "## 1.1 Theory\n",
        "Tabu search is a memory based searching algorithm proposed by Fred Grover in 1986. It's basic principle is to pursue local search whenever it encounters a local optimum by allowing non-improving moves. The algorithm keeps a record of recent moves or visited solution made in the past, this record is maintained in a list called tabu list which prevents cylcing back to already visited moves or solution's. the search is so forced to explore new moves which are not in the list. however this feature can be overriden when some aspiration criteria is satidifed."
      ]
    },
    {
      "cell_type": "markdown",
      "metadata": {
        "id": "mfoZGAYLu6EN"
      },
      "source": [
        "## 1.2 Idea\n",
        "\n",
        "*   The search will begin with an initial solution s0, we can generate the solution randomly or by applying any nearest neighbouring algorithm.\n",
        "*   Generate the neighbouring the solution from the initail solution.\n",
        "*   Calculate the cost of each neighbourhood solution\n",
        "*   Add all visited solution to tabu list, leads to visting unvisited or new solutions.\n",
        "*   New solution will be created until the number of iteration are met.\n",
        "\n",
        "### let us consider the following notations : -\n",
        "\n",
        "I => the number of iterations \n",
        "\n",
        "S => Size of the neighbourhood\n",
        "\n",
        "L => Lenght of tabu list\n",
        "\n",
        "### Steps : -\n",
        "\n",
        "Step 1  : set I , S , L.\n",
        "\n",
        "Step 2  : Choose a random solution s0.\n",
        "\n",
        "Step 3  : push the random generated solution in the tabu list .\n",
        "\n",
        "Step 4  : Create a neighbourhood solutions from the initial solution s0.\n",
        "\n",
        "Step 5  : Go through each of the generated solution in neighbourhood and evaluate the cost.\n",
        "\n",
        "Step 6  : Pick the best solution s1.\n",
        "\n",
        "Step 8  : Check if its in tabu list.\n",
        "\n",
        "Step 9  : If solution is alredy in tabu list get the next solution s1 = s1+1.\n",
        "\n",
        "Step 10 : If solution is not in tabu list it will become our current solution.\n",
        "\n",
        "Step 11 : Check if tabu list is full.\n",
        "\n",
        "Step 12 : Add the current solution to the tabu list,if tabu list is full drop the oldest solution first.\n",
        "\n",
        "Step 13 : Make the current solution as intial solution s0 = s1.\n",
        "\n",
        "Step 14 : Have we complete all the iterations (I) ?\n",
        "\n",
        "Step 15 : If no, repeat steps 4 - 14. if yes return the best solution and its cost.  \n",
        "\n"
      ]
    },
    {
      "cell_type": "markdown",
      "metadata": {
        "id": "HnPHlfLV5BO9"
      },
      "source": [
        "## High-level pseudocode.\n",
        "\n",
        "\n",
        "1.    $sBest \\gets s0 $ (intitial solution) \n",
        "\n",
        "2.    $sBestCandidate \\gets s0 $ \n",
        "\n",
        "3.    $bestcost \\gets  calculate cost of $sBestCandidate$\n",
        "\n",
        "4.    $ tabulist \\gets [] \\$\n",
        "\n",
        "5.    $ maxtabusize \\gets set ~ tabu ~ list ~ size \\$\n",
        "\n",
        "6.    $ tabulist.push \\gets s0 \\$\n",
        "\n",
        "7.    $ I \\gets set ~ number~ of ~iterations \\$\n",
        "\n",
        "8.    **while** 0 < $ I (stopping ~ criterion ) $ **do**\n",
        "\n",
        "9.    $ ~ ~ ~ ~ sNeighborhood \\gets get ~ all ~ neighbours(sBestCandidate) \\$\n",
        "\n",
        "10.    $ ~ ~ ~ ~ sBestCandidate \\gets sNeighborhood[I] \\$\n",
        "\n",
        "11.    $ ~ ~ ~ ~ $**for**  all  solution  in  sNeighborhood  **do** \n",
        "\n",
        "12.    $ ~ ~ ~ ~ ~ ~ ~ solutioncost \\gets calculate ~ cost~ of ~solution \\$\n",
        "\n",
        "13.   $ ~ ~ ~ ~ ~ ~ ~ $**if** solution not in tabu list and $ solutioncost $ >  $bestcost$\n",
        "\n",
        "14.   $ ~ ~ ~ ~ ~ ~ ~ ~ ~ ~ sBestCandidate \\gets solution \\$\n",
        "\n",
        "15.   $ ~ ~ ~ ~ ~ ~ ~ $**end if** \n",
        "\n",
        "16.   $ ~ ~ ~ ~ $**end for**\n",
        "\n",
        "17.   $ ~ ~ ~ ~ $ **if** $ ~ bestcost ~ $  >  cost of initial solution\n",
        "\n",
        "18.   $ ~ ~ ~ ~ ~ ~ ~ sBest\\gets sBestCandidate \\$\n",
        "\n",
        "19.   $ ~ ~ ~ ~ $**end if** \n",
        "\n",
        "20.   $ tabulist.push \\gets sBestCandidate \\$\n",
        "\n",
        "21.   **if** tabu list size  >  $ ~ maxtabusize ~ $\n",
        "\n",
        "22.   $ ~ ~ ~ ~ $ Remove first from list\n",
        "\n",
        "23.   **end if** \n",
        "\n",
        "24.   **return** $sBest$ , $bestcost$"
      ]
    },
    {
      "cell_type": "markdown",
      "metadata": {
        "id": "BbTnnMi96Vpa"
      },
      "source": [
        "## Big-O analysis of the given pseudocode.\n",
        "\n",
        "The first while-loop which genrates all the neighbouring solutions,costs $O(n)$, and the second for loop will loop through each of the solution will cost $O(n)$ as well. Inserting and checking in tabu list will be costing $O(1)$.\n",
        "So the total cost of this solution would be $~O(n^2)$."
      ]
    },
    {
      "cell_type": "markdown",
      "metadata": {
        "id": "Q7PHwbJW9IxY"
      },
      "source": [
        "## Provided Code for Generating Graphs"
      ]
    },
    {
      "cell_type": "code",
      "metadata": {
        "id": "iNtD5tQz9jCB"
      },
      "source": [
        "from random import randint, shuffle # random integers and random shuffling of a list\n",
        "from itertools import permutations # iterate over all possible permutations of a list\n",
        "from itertools import chain # concatenate range()'s'\n",
        "from math import inf as oo # Infinity (∞) is larger than any number\n",
        "from math import sqrt, log, factorial  # square root, logarithm, and n!\n",
        "from time import perf_counter # for measuring time. NB. 'perf_counter' is better/more accurate than 'time'\n",
        "import networkx as nx # to draw sample graphs\n",
        "import pandas as pd # to show the adjacency matrix in a nice format\n",
        "import matplotlib.pyplot as plt # to plot graphs of time and quality vs n\n",
        "import seaborn as sns # nice statistical plots -- see e.g. https://seaborn.pydata.org/tutorial/relational.html#relational-tutorial\n",
        "import argparse\n",
        "import copy\n",
        "import os\n",
        "sns.set_style(\"white\")"
      ],
      "execution_count": null,
      "outputs": []
    },
    {
      "cell_type": "code",
      "metadata": {
        "id": "tNnPVdFE9n6B"
      },
      "source": [
        "class Graph:\n",
        "    ''' Random graphs '''\n",
        "    def __init__(self, n=0, type='asymmetric', MAX_WEIGHT=100, MAX_X=200, MAX_Y=200):\n",
        "        self.n = n\n",
        "        self.vertices = list(range(n)) # [0,1,...,n-1]\n",
        "        self.type = type\n",
        "        self.adj_matrix = [[oo for i in range(n)] for j in range(n)]\n",
        "        #print(self.adj_matrix)\n",
        "        # Generate a random adjacency matrix according to the required type\n",
        "        if   type=='symmetric': self.__random_symmetric_graph(n,MAX_WEIGHT)\n",
        "        elif type=='Euclidean': self.__random_euclidean_graph(n,MAX_X,MAX_Y)\n",
        "        elif type=='easy':      self.__random_cycle_graph(n)\n",
        "        else:                   self.__random_asymmetric_graph(n,MAX_WEIGHT) # assume 'asymmetric' otherwise\n",
        "            \n",
        "    def __getitem__(self, i):\n",
        "        ''' Allow indexing to get the weights '''\n",
        "        return self.adj_matrix[i]\n",
        "                \n",
        "    def __random_asymmetric_graph(self,n, MAX_WEIGHT):\n",
        "        ''' Asymmetric adjacency matrix of size nxn '''\n",
        "        for i in range(n):\n",
        "            for j in range(n):\n",
        "                if i==j: continue # no self-loops\n",
        "                self.adj_matrix[i][j] = randint(1,MAX_WEIGHT)\n",
        "\n",
        "    def __random_symmetric_graph(self,n,MAX_WEIGHT):\n",
        "        ''' Symmetric adjacency matrix of size nxn '''\n",
        "        for i in range(n):\n",
        "            for j in range(i+1,n):\n",
        "                w = randint(1,MAX_WEIGHT)\n",
        "                self.adj_matrix[i][j] = w\n",
        "                self.adj_matrix[j][i] = w\n",
        "\n",
        "    def __random_cycle_graph(self,n):\n",
        "        ''' Symmetric adjacency matrix of size nxn with one reandomly chosen cycle\n",
        "        All the edge weights are 2 except for the cycle (weight=1) '''\n",
        "        self.adj_matrix = [[2 for _ in range(n)] for _ in range(n)] # All weights=2\n",
        "        # Select a random cycle which will have weight=1\n",
        "        cycle = list(range(1,n)) # don't include 0 as we want to be at the start\n",
        "        shuffle(cycle) # in-place random permutation\n",
        "        cycle = [0]+cycle+[0] # cycle starting and ending at 0\n",
        "        for a,b in zip(cycle, cycle[1:]): # set the cycle's weights to 1\n",
        "            self.adj_matrix[a][b] = 1\n",
        "            self.adj_matrix[b][a] = 1\n",
        "\n",
        "    def __random_euclidean_graph(self,n,MAX_X,MAX_Y):\n",
        "        ''' Symmetric adjacency matrix of a Euclidean graph of size nxn '''\n",
        "        # (1/2) Generate random (x,y) points\n",
        "        points = set()\n",
        "        while len(points)<n: # We may get duplicate (x,y) so we try until we get enough points\n",
        "            x,y = randint(0,MAX_X), randint(0,MAX_Y)\n",
        "            points.add((x,y))\n",
        "        points = list(points) # Sets are not indexed, so convert into a list\n",
        "        # (2/2) Now compute the adjacency matrix\n",
        "        for i in range(n):\n",
        "            p1 = points[i]\n",
        "            for j in range(i+1,n):\n",
        "                p2 = points[j]\n",
        "                distance = sqrt((p1[0]-p2[0])**2+(p1[1]-p2[1])**2)\n",
        "                self.adj_matrix[i][j] = distance\n",
        "                self.adj_matrix[j][i] = distance\n",
        "        self.points=points"
      ],
      "execution_count": null,
      "outputs": []
    },
    {
      "cell_type": "code",
      "metadata": {
        "id": "leaR6HZ59pfF"
      },
      "source": [
        "def show(G):\n",
        "    ''' Show adjacency matrix. Useful for debugging.\n",
        "    'type' is a string from: Euclidean, Cycle, ...\n",
        "    The distances are round to 1 decimal point for clarity/simplicity\n",
        "    '''\n",
        "    print(f\"{G.n}x{G.n} {G.type} graph:\")\n",
        "    if G.type=='Euclidean': print(\"Points:\",G.points)\n",
        "    r = pd.DataFrame({str(i): G[i] for i in range(G.n)})\n",
        "    display(r)\n",
        "    \n",
        "def nx_graph(G):\n",
        "    ''' Convert G into NetworkX format '''\n",
        "    nxG = nx.Graph() if G.type!='asymmetric' else nx.DiGraph() # undirected/directed graph\n",
        "    nxG.add_nodes_from(G.vertices) # Add the vertices\n",
        "    # Now add the edges\n",
        "    for a in G.vertices:\n",
        "        for b in G.vertices:\n",
        "            if a==b: continue # no self-loops\n",
        "            nxG.add_edge(a, b, weight=G[a][b])        \n",
        "    if G.type=='Euclidean': # add (x,y) coordinates if available\n",
        "        pos=dict(enumerate(G.points)) # vertex:(x,y) pairs\n",
        "        nx.set_node_attributes(nxG, pos, 'coord')\n",
        "    return nxG\n",
        "\n",
        "def draw(G):\n",
        "    ''' Draw the graph G using NetworkX '''\n",
        "    nxG = nx_graph(G)\n",
        "    weights_dictionary = nx.get_edge_attributes(nxG,'weight')\n",
        "    edges,weights = zip(*weights_dictionary.items())\n",
        "    pos = nx.circular_layout(nxG) if G.type!='Euclidean' else nx.get_node_attributes(nxG,'coord')\n",
        "    nx.draw(nxG, pos, \\\n",
        "            with_labels=True, node_color='red', font_color='white', font_weight='bold', font_size=14,\\\n",
        "            edge_color=weights, width=1.5, connectionstyle=\"arc3,rad=0.1\", edge_cmap=plt.cm.copper)\n",
        "    # see https://matplotlib.org/stable/gallery/color/colormap_reference.html\n",
        "    nx.draw_networkx_edge_labels(nxG, pos, edge_labels=weights_dictionary, label_pos=0.5 if G.type!=\"asymmetric\" else 0.25)"
      ],
      "execution_count": null,
      "outputs": []
    },
    {
      "cell_type": "markdown",
      "metadata": {
        "id": "MMyv8qB9-HPI"
      },
      "source": [
        "## Helper functions for tabu search"
      ]
    },
    {
      "cell_type": "code",
      "metadata": {
        "id": "hkXBWXfX-VPz"
      },
      "source": [
        "def ConvertDataToTabu(G):\n",
        "  nodes = (len(G.adj_matrix)-1)\n",
        "  dictionary_of_nodes = {}\n",
        "  for i in range(len(G.adj_matrix)):\n",
        "    outerlist = []\n",
        "    for j in range(nodes):\n",
        "      innerlist = []\n",
        "      outerlist.append(innerlist)\n",
        "    dictionary_of_nodes[str(i)] = outerlist\n",
        "  for i in range(len(G.adj_matrix)):\n",
        "    for j in range(len(G.adj_matrix[i])):\n",
        "      del G.adj_matrix[i][i]\n",
        "      break\n",
        "  for i in range(len(G.adj_matrix)):\n",
        "    for j in range(len(G.adj_matrix[i])):\n",
        "      dictionary_of_nodes[str(i)][j].append(str(j))\n",
        "      dictionary_of_nodes[str(i)][j].append(str(G.adj_matrix[i][j]))\n",
        "  for i in dictionary_of_nodes:\n",
        "    aheadincrease = False\n",
        "    for j in range(len(dictionary_of_nodes[i])):\n",
        "      if aheadincrease == True:\n",
        "        # value = int(dictionary_of_nodes[str(i)][str(j)][0])\n",
        "        dictionary_of_nodes[str(i)][j][0]   =  str(int( dictionary_of_nodes[str(i)][j][0])+ 1)\n",
        "        continue\n",
        "      if dictionary_of_nodes[str(i)][j][0] == str(i):\n",
        "        aheadincrease = True\n",
        "        dictionary_of_nodes[str(i)][j][0]  = str(int(dictionary_of_nodes[str(i)][j][0])+ 1)\n",
        "        # dictionary_of_nodes[i][j][0] += 1\n",
        "  return dictionary_of_nodes"
      ],
      "execution_count": null,
      "outputs": []
    },
    {
      "cell_type": "code",
      "metadata": {
        "id": "H-dwSL20-ZYh"
      },
      "source": [
        "def WriteDataTofile(dictionary_of_nodes):\n",
        "  if os.path.exists(\"/content/sample_data/new_tabu_data.txt\"):\n",
        "    os.remove(\"/content/sample_data/new_tabu_data.txt\")\n",
        "  with open('/content/sample_data/new_tabu_data.txt', 'w') as writefile:\n",
        "    for i in dictionary_of_nodes:\n",
        "      for j in range(len(dictionary_of_nodes[i])):\n",
        "        line = str(i) + \" \" + str(dictionary_of_nodes[i][j][0]) + \" \" + str(dictionary_of_nodes[i][j][1]) + \"\\n\"\n",
        "        writefile.write(line)\n",
        "  return '/content/sample_data/new_tabu_data.txt'"
      ],
      "execution_count": null,
      "outputs": []
    },
    {
      "cell_type": "code",
      "metadata": {
        "id": "281sfIMu-mKw"
      },
      "source": [
        "def generate_first_solution(path, dict_of_neighbours):\n",
        "    \"\"\"\n",
        "    Pure implementation of generating the first solution for the Tabu search to start,\n",
        "    with the redundant resolution strategy. That means that we start from the starting\n",
        "    node (e.g. node 'a'), then we go to the city nearest (lowest distance) to this node\n",
        "    (let's assume is node 'c'), then we go to the nearest city of the node 'c', etc.\n",
        "    till we have visited all cities and return to the starting node.\n",
        "    :param path: The path to the .txt file that includes the graph (e.g.tabudata2.txt)\n",
        "    :param dict_of_neighbours: Dictionary with key each node and value a list of lists\n",
        "        with the neighbors of the node and the cost (distance) for each neighbor.\n",
        "    :return first_solution: The solution for the first iteration of Tabu search using\n",
        "        the redundant resolution strategy in a list.\n",
        "    :return distance_of_first_solution: The total distance that Travelling Salesman\n",
        "        will travel, if he follows the path in first_solution.\n",
        "    \"\"\"\n",
        "\n",
        "    with open(path) as f:\n",
        "        start_node = f.read(1)\n",
        "    end_node = start_node\n",
        "\n",
        "    first_solution = []\n",
        "\n",
        "    visiting = start_node\n",
        "\n",
        "    distance_of_first_solution = 0\n",
        "    while visiting not in first_solution:\n",
        "        minim = 10000\n",
        "        for k in dict_of_neighbours[visiting]:\n",
        "            if int(k[1]) < int(minim) and k[0] not in first_solution:\n",
        "                minim = k[1]\n",
        "                best_node = k[0]\n",
        "\n",
        "        first_solution.append(visiting)\n",
        "        distance_of_first_solution = distance_of_first_solution + int(minim)\n",
        "        visiting = best_node\n",
        "\n",
        "    first_solution.append(end_node)\n",
        "\n",
        "    position = 0\n",
        "    for k in dict_of_neighbours[first_solution[-2]]:\n",
        "        if k[0] == start_node:\n",
        "            break\n",
        "        position += 1\n",
        "\n",
        "    distance_of_first_solution = (distance_of_first_solution+ int(dict_of_neighbours[first_solution[-2]][position][1])- 10000\n",
        "    )\n",
        "    return first_solution, distance_of_first_solution"
      ],
      "execution_count": null,
      "outputs": []
    },
    {
      "cell_type": "markdown",
      "metadata": {
        "id": "DvzanJa--oka"
      },
      "source": [
        "## Tabu search code\n"
      ]
    },
    {
      "cell_type": "code",
      "metadata": {
        "id": "CxUWWZas-tkf"
      },
      "source": [
        "def find_neighborhood(solution, dict_of_neighbours):\n",
        "    \"\"\"\n",
        "    Pure implementation of generating the neighborhood (sorted by total distance of\n",
        "    each solution from lowest to highest) of a solution with 1-1 exchange method, that\n",
        "    means we exchange each node in a solution with each other node and generating a\n",
        "    number of solution named neighborhood.\n",
        "    :param solution: The solution in which we want to find the neighborhood.\n",
        "    :param dict_of_neighbours: Dictionary with key each node and value a list of lists\n",
        "        with the neighbors of the node and the cost (distance) for each neighbor.\n",
        "    :return neighborhood_of_solution: A list that includes the solutions and the total\n",
        "        distance of each solution (in form of list) that are produced with 1-1 exchange\n",
        "        from the solution that the method took as an input\n",
        "    Example:\n",
        "    >>> find_neighborhood(['a', 'c', 'b', 'd', 'e', 'a'],\n",
        "    ...                   {'a': [['b', '20'], ['c', '18'], ['d', '22'], ['e', '26']],\n",
        "    ...                    'c': [['a', '18'], ['b', '10'], ['d', '23'], ['e', '24']],\n",
        "    ...                    'b': [['a', '20'], ['c', '10'], ['d', '11'], ['e', '12']],\n",
        "    ...                    'e': [['a', '26'], ['b', '12'], ['c', '24'], ['d', '40']],\n",
        "    ...                    'd': [['a', '22'], ['b', '11'], ['c', '23'], ['e', '40']]}\n",
        "    ...                   )  # doctest: +NORMALIZE_WHITESPACE\n",
        "    [['a', 'e', 'b', 'd', 'c', 'a', 90],\n",
        "     ['a', 'c', 'd', 'b', 'e', 'a', 90],\n",
        "     ['a', 'd', 'b', 'c', 'e', 'a', 93],\n",
        "     ['a', 'c', 'b', 'e', 'd', 'a', 102],\n",
        "     ['a', 'c', 'e', 'd', 'b', 'a', 113],\n",
        "     ['a', 'b', 'c', 'd', 'e', 'a', 119]]\n",
        "    \"\"\"\n",
        "\n",
        "    neighborhood_of_solution = []\n",
        "\n",
        "    for n in solution[1:-1]:\n",
        "        idx1 = solution.index(n)\n",
        "        for kn in solution[1:-1]:\n",
        "            idx2 = solution.index(kn)\n",
        "            if n == kn:\n",
        "                continue\n",
        "\n",
        "            _tmp = copy.deepcopy(solution)\n",
        "            _tmp[idx1] = kn\n",
        "            _tmp[idx2] = n\n",
        "\n",
        "            distance = 0\n",
        "\n",
        "            for k in _tmp[:-1]:\n",
        "                next_node = _tmp[_tmp.index(k) + 1]\n",
        "                for i in dict_of_neighbours[k]:\n",
        "                    if i[0] == next_node:\n",
        "                        distance = distance + int(i[1])\n",
        "            _tmp.append(distance)\n",
        "\n",
        "            if _tmp not in neighborhood_of_solution:\n",
        "                neighborhood_of_solution.append(_tmp)\n",
        "\n",
        "    indexOfLastItemInTheList = len(neighborhood_of_solution[0]) - 1\n",
        "\n",
        "    neighborhood_of_solution.sort(key=lambda x: x[indexOfLastItemInTheList])\n",
        "    return neighborhood_of_solution"
      ],
      "execution_count": null,
      "outputs": []
    },
    {
      "cell_type": "code",
      "metadata": {
        "id": "8PiKChti-xMO"
      },
      "source": [
        "def tabu_search(\n",
        "    first_solution, distance_of_first_solution, dict_of_neighbours, iters, size\n",
        "):\n",
        "    \"\"\"\n",
        "    Pure implementation of Tabu search algorithm for a Travelling Salesman Problem in\n",
        "    Python.\n",
        "    :param first_solution: The solution for the first iteration of Tabu search using\n",
        "        the redundant resolution strategy in a list.\n",
        "    :param distance_of_first_solution: The total distance that Travelling Salesman will\n",
        "        travel, if he follows the path in first_solution.\n",
        "    :param dict_of_neighbours: Dictionary with key each node and value a list of lists\n",
        "        with the neighbors of the node and the cost (distance) for each neighbor.\n",
        "    :param iters: The number of iterations that Tabu search will execute.\n",
        "    :param size: The size of Tabu List.\n",
        "    :return best_solution_ever: The solution with the lowest distance that occurred\n",
        "        during the execution of Tabu search.\n",
        "    :return best_cost: The total distance that Travelling Salesman will travel, if he\n",
        "        follows the path in best_solution ever.\n",
        "    \"\"\"\n",
        "    count = 1\n",
        "    solution = first_solution\n",
        "    tabu_list = list()\n",
        "    best_cost = distance_of_first_solution\n",
        "    best_solution_ever = solution \n",
        "\n",
        "    while count <= iters:\n",
        "        neighborhood = find_neighborhood(solution, dict_of_neighbours)\n",
        "        index_of_best_solution = 0\n",
        "        best_solution = neighborhood[index_of_best_solution]\n",
        "        best_cost_index = len(best_solution) - 1\n",
        "\n",
        "        found = False\n",
        "        while not found:\n",
        "            i = 0\n",
        "            while i < len(best_solution):\n",
        "\n",
        "                if best_solution[i] != solution[i]:\n",
        "                    first_exchange_node = best_solution[i]\n",
        "                    second_exchange_node = solution[i]\n",
        "                    break\n",
        "                i = i + 1\n",
        "\n",
        "            if [first_exchange_node, second_exchange_node] not in tabu_list and [\n",
        "                second_exchange_node,\n",
        "                first_exchange_node,\n",
        "            ] not in tabu_list:\n",
        "                tabu_list.append([first_exchange_node, second_exchange_node])\n",
        "                found = True\n",
        "                solution = best_solution[:-1]\n",
        "                cost = neighborhood[index_of_best_solution][best_cost_index]\n",
        "                if cost < best_cost:\n",
        "                    best_cost = cost\n",
        "                    best_solution_ever = solution\n",
        "            else:\n",
        "                index_of_best_solution = index_of_best_solution + 1\n",
        "                best_solution = neighborhood[index_of_best_solution]\n",
        "\n",
        "        if len(tabu_list) >= size:\n",
        "            tabu_list.pop(0)\n",
        "\n",
        "        count = count + 1\n",
        "\n",
        "    return best_solution_ever, best_cost"
      ],
      "execution_count": null,
      "outputs": []
    },
    {
      "cell_type": "code",
      "metadata": {
        "id": "QgWRFQ3IA0xr"
      },
      "source": [
        "def tabu_search_final(G):\n",
        "\n",
        "  dictionary_of_nodes = ConvertDataToTabu(G)\n",
        "  FilePath = WriteDataTofile(dictionary_of_nodes)\n",
        "\n",
        "  Iterations  = 5\n",
        "  Size = len(dictionary_of_nodes)\n",
        "\n",
        "  first_solution , distance_of_first_solution = generate_first_solution( FilePath , dictionary_of_nodes )\n",
        "\n",
        "  best_sol, best_cost = tabu_search( first_solution, distance_of_first_solution, dictionary_of_nodes, Iterations, Size,)\n",
        "\n",
        "  # print(best_sol,best_cost)"
      ],
      "execution_count": null,
      "outputs": []
    },
    {
      "cell_type": "markdown",
      "metadata": {
        "id": "vtsFkwOGACzb"
      },
      "source": [
        "## Testing tabu search time cost"
      ]
    },
    {
      "cell_type": "markdown",
      "metadata": {
        "id": "-0hDNsERBYWS"
      },
      "source": [
        "### Tabu search on cyclic graphs from 5 to 107 cities"
      ]
    },
    {
      "cell_type": "code",
      "metadata": {
        "colab": {
          "base_uri": "https://localhost:8080/"
        },
        "id": "x72pgB90AW-t",
        "outputId": "14abca16-b95f-477b-bee3-e27f3c8c69bb"
      },
      "source": [
        "MAX_REPETITIONS = 10\n",
        "MAX_n = 20\n",
        "\n",
        "tabu_search_data = pd.DataFrame(columns=['n', 'time'])\n",
        "\n",
        "i=0\n",
        "for n in range(5,MAX_n):\n",
        "    print(n, end=', ')\n",
        "    for repetitions in range(MAX_REPETITIONS):\n",
        "        G = Graph(n,'easy')\n",
        "        # Time the search\n",
        "        t0 = perf_counter()\n",
        "        tabu_search_final(G)\n",
        "        t1 = perf_counter()\n",
        "        # Record the data\n",
        "        tabu_search_data.loc[i] = [n, t1-t0]\n",
        "        i += 1"
      ],
      "execution_count": null,
      "outputs": [
        {
          "output_type": "stream",
          "text": [
            "5, 6, 7, 8, 9, 10, 11, 12, 13, 14, 15, 16, 17, 18, 19, "
          ],
          "name": "stdout"
        }
      ]
    },
    {
      "cell_type": "code",
      "metadata": {
        "colab": {
          "base_uri": "https://localhost:8080/",
          "height": 550
        },
        "id": "8ad90y6cPwtB",
        "outputId": "23314903-3b04-4725-b44e-ce1daaac6a3f"
      },
      "source": [
        "tabu_search_data.groupby('n').agg(['min','max','mean','std'])"
      ],
      "execution_count": null,
      "outputs": [
        {
          "output_type": "execute_result",
          "data": {
            "text/html": [
              "<div>\n",
              "<style scoped>\n",
              "    .dataframe tbody tr th:only-of-type {\n",
              "        vertical-align: middle;\n",
              "    }\n",
              "\n",
              "    .dataframe tbody tr th {\n",
              "        vertical-align: top;\n",
              "    }\n",
              "\n",
              "    .dataframe thead tr th {\n",
              "        text-align: left;\n",
              "    }\n",
              "\n",
              "    .dataframe thead tr:last-of-type th {\n",
              "        text-align: right;\n",
              "    }\n",
              "</style>\n",
              "<table border=\"1\" class=\"dataframe\">\n",
              "  <thead>\n",
              "    <tr>\n",
              "      <th></th>\n",
              "      <th colspan=\"4\" halign=\"left\">time</th>\n",
              "    </tr>\n",
              "    <tr>\n",
              "      <th></th>\n",
              "      <th>min</th>\n",
              "      <th>max</th>\n",
              "      <th>mean</th>\n",
              "      <th>std</th>\n",
              "    </tr>\n",
              "    <tr>\n",
              "      <th>n</th>\n",
              "      <th></th>\n",
              "      <th></th>\n",
              "      <th></th>\n",
              "      <th></th>\n",
              "    </tr>\n",
              "  </thead>\n",
              "  <tbody>\n",
              "    <tr>\n",
              "      <th>5.0</th>\n",
              "      <td>0.000968</td>\n",
              "      <td>0.002328</td>\n",
              "      <td>0.001177</td>\n",
              "      <td>0.000420</td>\n",
              "    </tr>\n",
              "    <tr>\n",
              "      <th>6.0</th>\n",
              "      <td>0.001666</td>\n",
              "      <td>0.003395</td>\n",
              "      <td>0.002185</td>\n",
              "      <td>0.000663</td>\n",
              "    </tr>\n",
              "    <tr>\n",
              "      <th>7.0</th>\n",
              "      <td>0.002591</td>\n",
              "      <td>0.005043</td>\n",
              "      <td>0.002960</td>\n",
              "      <td>0.000763</td>\n",
              "    </tr>\n",
              "    <tr>\n",
              "      <th>8.0</th>\n",
              "      <td>0.003958</td>\n",
              "      <td>0.005462</td>\n",
              "      <td>0.004249</td>\n",
              "      <td>0.000483</td>\n",
              "    </tr>\n",
              "    <tr>\n",
              "      <th>9.0</th>\n",
              "      <td>0.005806</td>\n",
              "      <td>0.011145</td>\n",
              "      <td>0.006792</td>\n",
              "      <td>0.001703</td>\n",
              "    </tr>\n",
              "    <tr>\n",
              "      <th>10.0</th>\n",
              "      <td>0.008305</td>\n",
              "      <td>0.012162</td>\n",
              "      <td>0.009075</td>\n",
              "      <td>0.001212</td>\n",
              "    </tr>\n",
              "    <tr>\n",
              "      <th>11.0</th>\n",
              "      <td>0.011599</td>\n",
              "      <td>0.016337</td>\n",
              "      <td>0.012853</td>\n",
              "      <td>0.001511</td>\n",
              "    </tr>\n",
              "    <tr>\n",
              "      <th>12.0</th>\n",
              "      <td>0.015485</td>\n",
              "      <td>0.018422</td>\n",
              "      <td>0.016239</td>\n",
              "      <td>0.001086</td>\n",
              "    </tr>\n",
              "    <tr>\n",
              "      <th>13.0</th>\n",
              "      <td>0.020268</td>\n",
              "      <td>0.022958</td>\n",
              "      <td>0.021314</td>\n",
              "      <td>0.000863</td>\n",
              "    </tr>\n",
              "    <tr>\n",
              "      <th>14.0</th>\n",
              "      <td>0.026202</td>\n",
              "      <td>0.033621</td>\n",
              "      <td>0.028071</td>\n",
              "      <td>0.002496</td>\n",
              "    </tr>\n",
              "    <tr>\n",
              "      <th>15.0</th>\n",
              "      <td>0.034007</td>\n",
              "      <td>0.042415</td>\n",
              "      <td>0.035414</td>\n",
              "      <td>0.002525</td>\n",
              "    </tr>\n",
              "    <tr>\n",
              "      <th>16.0</th>\n",
              "      <td>0.042732</td>\n",
              "      <td>0.048486</td>\n",
              "      <td>0.045187</td>\n",
              "      <td>0.002052</td>\n",
              "    </tr>\n",
              "    <tr>\n",
              "      <th>17.0</th>\n",
              "      <td>0.052898</td>\n",
              "      <td>0.060294</td>\n",
              "      <td>0.055057</td>\n",
              "      <td>0.002284</td>\n",
              "    </tr>\n",
              "    <tr>\n",
              "      <th>18.0</th>\n",
              "      <td>0.064944</td>\n",
              "      <td>0.073986</td>\n",
              "      <td>0.067428</td>\n",
              "      <td>0.002636</td>\n",
              "    </tr>\n",
              "    <tr>\n",
              "      <th>19.0</th>\n",
              "      <td>0.078611</td>\n",
              "      <td>0.086077</td>\n",
              "      <td>0.081711</td>\n",
              "      <td>0.002697</td>\n",
              "    </tr>\n",
              "  </tbody>\n",
              "</table>\n",
              "</div>"
            ],
            "text/plain": [
              "          time                              \n",
              "           min       max      mean       std\n",
              "n                                           \n",
              "5.0   0.000968  0.002328  0.001177  0.000420\n",
              "6.0   0.001666  0.003395  0.002185  0.000663\n",
              "7.0   0.002591  0.005043  0.002960  0.000763\n",
              "8.0   0.003958  0.005462  0.004249  0.000483\n",
              "9.0   0.005806  0.011145  0.006792  0.001703\n",
              "10.0  0.008305  0.012162  0.009075  0.001212\n",
              "11.0  0.011599  0.016337  0.012853  0.001511\n",
              "12.0  0.015485  0.018422  0.016239  0.001086\n",
              "13.0  0.020268  0.022958  0.021314  0.000863\n",
              "14.0  0.026202  0.033621  0.028071  0.002496\n",
              "15.0  0.034007  0.042415  0.035414  0.002525\n",
              "16.0  0.042732  0.048486  0.045187  0.002052\n",
              "17.0  0.052898  0.060294  0.055057  0.002284\n",
              "18.0  0.064944  0.073986  0.067428  0.002636\n",
              "19.0  0.078611  0.086077  0.081711  0.002697"
            ]
          },
          "metadata": {
            "tags": []
          },
          "execution_count": 71
        }
      ]
    },
    {
      "cell_type": "code",
      "metadata": {
        "colab": {
          "base_uri": "https://localhost:8080/",
          "height": 339
        },
        "id": "l3c91RbiLrsL",
        "outputId": "14caf00c-e2bb-41c1-d779-dde7cf472619"
      },
      "source": [
        "plt.figure(figsize=(15,5))\n",
        "sns.scatterplot(data=tabu_search_data, x='n', y='time', alpha=0.1, color='#777') # actual data\n",
        "sns.lineplot(data=tabu_search_data, x='n', y='time', ci='sd', color='red') # mean\n",
        "plt.xscale('log')\n",
        "plt.yscale('log')"
      ],
      "execution_count": null,
      "outputs": [
        {
          "output_type": "display_data",
          "data": {
            "image/png": "[encoded data removed]",
            "text/plain": [
              "<Figure size 1080x360 with 1 Axes>"
            ]
          },
          "metadata": {
            "tags": []
          }
        }
      ]
    },
    {
      "cell_type": "code",
      "metadata": {
        "colab": {
          "base_uri": "https://localhost:8080/",
          "height": 521
        },
        "id": "l47hIqzkTWmw",
        "outputId": "5c2ab747-3bf6-46a1-feb0-d16fb0493845"
      },
      "source": [
        "tabu_search_data['time/n!'] = tabu_search_data['time']/tabu_search_data['n'].transform(factorial)\n",
        "tabu_search_data.groupby('n').mean()"
      ],
      "execution_count": null,
      "outputs": [
        {
          "output_type": "execute_result",
          "data": {
            "text/html": [
              "<div>\n",
              "<style scoped>\n",
              "    .dataframe tbody tr th:only-of-type {\n",
              "        vertical-align: middle;\n",
              "    }\n",
              "\n",
              "    .dataframe tbody tr th {\n",
              "        vertical-align: top;\n",
              "    }\n",
              "\n",
              "    .dataframe thead th {\n",
              "        text-align: right;\n",
              "    }\n",
              "</style>\n",
              "<table border=\"1\" class=\"dataframe\">\n",
              "  <thead>\n",
              "    <tr style=\"text-align: right;\">\n",
              "      <th></th>\n",
              "      <th>time</th>\n",
              "      <th>time/n!</th>\n",
              "    </tr>\n",
              "    <tr>\n",
              "      <th>n</th>\n",
              "      <th></th>\n",
              "      <th></th>\n",
              "    </tr>\n",
              "  </thead>\n",
              "  <tbody>\n",
              "    <tr>\n",
              "      <th>5.0</th>\n",
              "      <td>0.001177</td>\n",
              "      <td>9.804474e-06</td>\n",
              "    </tr>\n",
              "    <tr>\n",
              "      <th>6.0</th>\n",
              "      <td>0.002185</td>\n",
              "      <td>3.035264e-06</td>\n",
              "    </tr>\n",
              "    <tr>\n",
              "      <th>7.0</th>\n",
              "      <td>0.002960</td>\n",
              "      <td>5.872420e-07</td>\n",
              "    </tr>\n",
              "    <tr>\n",
              "      <th>8.0</th>\n",
              "      <td>0.004249</td>\n",
              "      <td>1.053886e-07</td>\n",
              "    </tr>\n",
              "    <tr>\n",
              "      <th>9.0</th>\n",
              "      <td>0.006792</td>\n",
              "      <td>1.871813e-08</td>\n",
              "    </tr>\n",
              "    <tr>\n",
              "      <th>10.0</th>\n",
              "      <td>0.009075</td>\n",
              "      <td>2.500833e-09</td>\n",
              "    </tr>\n",
              "    <tr>\n",
              "      <th>11.0</th>\n",
              "      <td>0.012853</td>\n",
              "      <td>3.219915e-10</td>\n",
              "    </tr>\n",
              "    <tr>\n",
              "      <th>12.0</th>\n",
              "      <td>0.016239</td>\n",
              "      <td>3.390270e-11</td>\n",
              "    </tr>\n",
              "    <tr>\n",
              "      <th>13.0</th>\n",
              "      <td>0.021314</td>\n",
              "      <td>3.422792e-12</td>\n",
              "    </tr>\n",
              "    <tr>\n",
              "      <th>14.0</th>\n",
              "      <td>0.028071</td>\n",
              "      <td>3.219914e-13</td>\n",
              "    </tr>\n",
              "    <tr>\n",
              "      <th>15.0</th>\n",
              "      <td>0.035414</td>\n",
              "      <td>2.708151e-14</td>\n",
              "    </tr>\n",
              "    <tr>\n",
              "      <th>16.0</th>\n",
              "      <td>0.045187</td>\n",
              "      <td>2.159711e-15</td>\n",
              "    </tr>\n",
              "    <tr>\n",
              "      <th>17.0</th>\n",
              "      <td>0.055057</td>\n",
              "      <td>1.547890e-16</td>\n",
              "    </tr>\n",
              "    <tr>\n",
              "      <th>18.0</th>\n",
              "      <td>0.067428</td>\n",
              "      <td>1.053173e-17</td>\n",
              "    </tr>\n",
              "    <tr>\n",
              "      <th>19.0</th>\n",
              "      <td>0.081711</td>\n",
              "      <td>6.717168e-19</td>\n",
              "    </tr>\n",
              "  </tbody>\n",
              "</table>\n",
              "</div>"
            ],
            "text/plain": [
              "          time       time/n!\n",
              "n                           \n",
              "5.0   0.001177  9.804474e-06\n",
              "6.0   0.002185  3.035264e-06\n",
              "7.0   0.002960  5.872420e-07\n",
              "8.0   0.004249  1.053886e-07\n",
              "9.0   0.006792  1.871813e-08\n",
              "10.0  0.009075  2.500833e-09\n",
              "11.0  0.012853  3.219915e-10\n",
              "12.0  0.016239  3.390270e-11\n",
              "13.0  0.021314  3.422792e-12\n",
              "14.0  0.028071  3.219914e-13\n",
              "15.0  0.035414  2.708151e-14\n",
              "16.0  0.045187  2.159711e-15\n",
              "17.0  0.055057  1.547890e-16\n",
              "18.0  0.067428  1.053173e-17\n",
              "19.0  0.081711  6.717168e-19"
            ]
          },
          "metadata": {
            "tags": []
          },
          "execution_count": 73
        }
      ]
    },
    {
      "cell_type": "code",
      "metadata": {
        "colab": {
          "base_uri": "https://localhost:8080/"
        },
        "id": "EZ5Hw8iJOiKG",
        "outputId": "688f1feb-69b9-487b-98a8-6e361b2aa073"
      },
      "source": [
        "exhaustive_constant = tabu_search_data[tabu_search_data.n == MAX_n-1]['time/n!'].mean() # use the largest n available\n",
        "exhaustive_constant"
      ],
      "execution_count": null,
      "outputs": [
        {
          "output_type": "execute_result",
          "data": {
            "text/plain": [
              "6.717168042578448e-19"
            ]
          },
          "metadata": {
            "tags": []
          },
          "execution_count": 74
        }
      ]
    },
    {
      "cell_type": "code",
      "metadata": {
        "colab": {
          "base_uri": "https://localhost:8080/"
        },
        "id": "O9Cf1xyFU2M9",
        "outputId": "fa8588cf-4000-49ee-8f8f-4269f2bcf06c"
      },
      "source": [
        "def time_in_human_units(t):\n",
        "    if t<60: return f'{t} seconds'\n",
        "    t /= 60 # now in minutes\n",
        "    if t<60: return f'{t} minutes'\n",
        "    t /= 60 # now in hours\n",
        "    if t<24: return f'{t} hours'\n",
        "    t /= 24 # now in days\n",
        "    if t<30: return f'{t} days'\n",
        "    t /= 30 # now in months\n",
        "    if t<12: return f'{t} months'\n",
        "    t = t*30/365.25 # now in years\n",
        "    if t<100: return f'{t} years'\n",
        "    return f'{t/100} centuries'\n",
        "\n",
        "for n in chain(range(10,50), range(30,101,10)):\n",
        "    estimated_running_time = exhaustive_constant*factorial(n) # O(n!))\n",
        "    print(n,time_in_human_units(estimated_running_time)) # constant_min is used"
      ],
      "execution_count": null,
      "outputs": [
        {
          "output_type": "stream",
          "text": [
            "10 2.4375259392908675e-12 seconds\n",
            "11 2.681278533219954e-11 seconds\n",
            "12 3.217534239863945e-10 seconds\n",
            "13 4.182794511823128e-09 seconds\n",
            "14 5.8559123165523795e-08 seconds\n",
            "15 8.783868474828569e-07 seconds\n",
            "16 1.405418955972571e-05 seconds\n",
            "17 0.0002389212225153371 seconds\n",
            "18 0.004300582005276068 seconds\n",
            "19 0.08171105810024529 seconds\n",
            "20 1.6342211620049056 seconds\n",
            "21 34.31864440210302 seconds\n",
            "22 12.583502947437774 minutes\n",
            "23 4.8236761298511475 hours\n",
            "24 4.823676129851147 days\n",
            "25 4.019730108209289 months\n",
            "26 8.584228567839139 years\n",
            "27 2.3177417133165674 centuries\n",
            "28 64.89676797286388 centuries\n",
            "29 1882.0062712130527 centuries\n",
            "30 56460.18813639158 centuries\n",
            "31 1750265.832228139 centuries\n",
            "32 56008506.63130045 centuries\n",
            "33 1848280718.8329148 centuries\n",
            "34 62841544440.319115 centuries\n",
            "35 2199454055411.169 centuries\n",
            "36 79180345994802.1 centuries\n",
            "37 2929672801807677.0 centuries\n",
            "38 1.1132756646869173e+17 centuries\n",
            "39 4.341775092278977e+18 centuries\n",
            "40 1.7367100369115903e+20 centuries\n",
            "41 7.120511151337523e+21 centuries\n",
            "42 2.990614683561759e+23 centuries\n",
            "43 1.2859643139315562e+25 centuries\n",
            "44 5.65824298129885e+26 centuries\n",
            "45 2.546209341584482e+28 centuries\n",
            "46 1.1712562971288617e+30 centuries\n",
            "47 5.50490459650565e+31 centuries\n",
            "48 2.642354206322712e+33 centuries\n",
            "49 1.2947535610981287e+35 centuries\n",
            "30 56460.18813639158 centuries\n",
            "40 1.7367100369115903e+20 centuries\n",
            "50 6.473767805490644e+36 centuries\n",
            "60 1.7711571449163933e+54 centuries\n",
            "70 2.5496894192605684e+72 centuries\n",
            "80 1.5233860296595881e+91 centuries\n",
            "90 3.162408990850225e+110 centuries\n",
            "100 1.9864877934787594e+130 centuries\n"
          ],
          "name": "stdout"
        }
      ]
    }
  ]
}
